{
 "cells": [
  {
   "cell_type": "code",
   "execution_count": 1,
   "metadata": {},
   "outputs": [],
   "source": [
    "import random\n",
    "\n",
    "class NumberGenerator:\n",
    "\n",
    "    def rand_num(self, amount, minRange, maxRange):\n",
    "        assert type(amount) == int\n",
    "        assert minRange > 0\n",
    "        numberlist= []\n",
    "        for number in range(amount):\n",
    "            x = random.randint(minRange, maxRange)\n",
    "            numberlist.append(x)\n",
    "\n",
    "        assert len(numberlist) > 0\n",
    "        assert type(numberlist[0]) == int\n",
    "        return numberlist"
   ]
  },
  {
   "cell_type": "code",
   "execution_count": 2,
   "metadata": {},
   "outputs": [],
   "source": [
    "numbergen = NumberGenerator()"
   ]
  },
  {
   "cell_type": "code",
   "execution_count": 3,
   "metadata": {},
   "outputs": [],
   "source": [
    "x = numbergen.rand_num(4,1,5)"
   ]
  },
  {
   "cell_type": "code",
   "execution_count": 4,
   "metadata": {},
   "outputs": [
    {
     "name": "stdout",
     "output_type": "stream",
     "text": [
      "[3]\n"
     ]
    }
   ],
   "source": [
    "print(x)"
   ]
  },
  {
   "cell_type": "code",
   "execution_count": null,
   "metadata": {},
   "outputs": [],
   "source": []
  }
 ],
 "metadata": {
  "kernelspec": {
   "display_name": "Python 3.9.12 ('base')",
   "language": "python",
   "name": "python3"
  },
  "language_info": {
   "codemirror_mode": {
    "name": "ipython",
    "version": 3
   },
   "file_extension": ".py",
   "mimetype": "text/x-python",
   "name": "python",
   "nbconvert_exporter": "python",
   "pygments_lexer": "ipython3",
   "version": "3.9.12"
  },
  "orig_nbformat": 4,
  "vscode": {
   "interpreter": {
    "hash": "bc4961cef7913e89bf3d690f42ebf9addf81744f87766ee16e8981e4a02a368a"
   }
  }
 },
 "nbformat": 4,
 "nbformat_minor": 2
}
